{
 "cells": [
  {
   "cell_type": "markdown",
   "id": "eaac26f5-c3eb-4f5f-9593-fa3cf95c6501",
   "metadata": {},
   "source": [
    "#polymorphism"
   ]
  },
  {
   "cell_type": "code",
   "execution_count": 7,
   "id": "6bfbdbc7-b91d-45d6-9940-76847363d534",
   "metadata": {},
   "outputs": [],
   "source": [
    "class pw:\n",
    "    def syllabus(self):\n",
    "        print(\"this is syllabus\")\n",
    "\n",
    "   \n"
   ]
  },
  {
   "cell_type": "code",
   "execution_count": 8,
   "id": "62b0d478-58de-4f4f-83f4-d68c8517f49c",
   "metadata": {},
   "outputs": [],
   "source": [
    "class wp:\n",
    "    def syllabus(self):\n",
    "        print(\"this sis syllabus2\")\n"
   ]
  },
  {
   "cell_type": "code",
   "execution_count": 25,
   "id": "e5dfb1d6-1b3a-4d95-92bd-e59d1e332186",
   "metadata": {},
   "outputs": [
    {
     "name": "stdout",
     "output_type": "stream",
     "text": [
      "this is syllabus\n",
      "this sis syllabus2\n"
     ]
    }
   ],
   "source": [
    "def toget(class_obj):\n",
    "     for i in class_obj:\n",
    "        i.syllabus(wp)\n",
    "        obj_pw=pw()\n",
    "        obj_wp=wp()\n",
    "        class_obj=[pw,wp]\n",
    "toget(class_obj)"
   ]
  },
  {
   "cell_type": "markdown",
   "id": "1370e41e-e546-4c0a-9052-6b5fc0f06ce6",
   "metadata": {},
   "source": [
    " \n",
    "#encupsulation\n",
    "    "
   ]
  },
  {
   "cell_type": "code",
   "execution_count": 38,
   "id": "60073e22-7c37-4c50-9d07-3694650ae720",
   "metadata": {},
   "outputs": [],
   "source": [
    "class car:\n",
    "    \n",
    "    def __init__(self , year , make , model ,speed ) :\n",
    "        self.__year = year \n",
    "        self.__make = make\n",
    "        self.__model = model\n",
    "        self.__speed = 0 \n",
    "    \n",
    "    def set_speed(self , speed) : \n",
    "        self.__speed = 0 if speed < 0 else speed \n",
    "    \n",
    "    def get_speed(self) : \n",
    "        return self.__speed\n",
    "        "
   ]
  },
  {
   "cell_type": "code",
   "execution_count": 6,
   "id": "8cc53822-226a-4814-90bf-8e19a9f05435",
   "metadata": {},
   "outputs": [
    {
     "ename": "NameError",
     "evalue": "name 'car' is not defined",
     "output_type": "error",
     "traceback": [
      "\u001b[0;31m---------------------------------------------------------------------------\u001b[0m",
      "\u001b[0;31mNameError\u001b[0m                                 Traceback (most recent call last)",
      "Cell \u001b[0;32mIn[6], line 1\u001b[0m\n\u001b[0;32m----> 1\u001b[0m obj_car \u001b[38;5;241m=\u001b[39m \u001b[43mcar\u001b[49m()\n",
      "\u001b[0;31mNameError\u001b[0m: name 'car' is not defined"
     ]
    }
   ],
   "source": [
    "obj_car = car()"
   ]
  },
  {
   "cell_type": "code",
   "execution_count": 7,
   "id": "1eba219a-4689-4fbf-b3ba-c84cba402fd3",
   "metadata": {},
   "outputs": [
    {
     "ename": "NameError",
     "evalue": "name 'obj_car' is not defined",
     "output_type": "error",
     "traceback": [
      "\u001b[0;31m---------------------------------------------------------------------------\u001b[0m",
      "\u001b[0;31mNameError\u001b[0m                                 Traceback (most recent call last)",
      "Cell \u001b[0;32mIn[7], line 1\u001b[0m\n\u001b[0;32m----> 1\u001b[0m \u001b[43mobj_car\u001b[49m\u001b[38;5;241m.\u001b[39m_car__year\n",
      "\u001b[0;31mNameError\u001b[0m: name 'obj_car' is not defined"
     ]
    }
   ],
   "source": [
    "obj_car._car__year"
   ]
  },
  {
   "cell_type": "markdown",
   "id": "92e845af-f141-4ea6-9e73-78d914987692",
   "metadata": {},
   "source": [
    "#inheritence"
   ]
  },
  {
   "cell_type": "code",
   "execution_count": 8,
   "id": "de4e328e-06bb-4890-b79b-1a91b164bf9e",
   "metadata": {},
   "outputs": [],
   "source": [
    "#multilevel"
   ]
  },
  {
   "cell_type": "code",
   "execution_count": 11,
   "id": "f5b15107-8aeb-4c80-a35d-06a15aebfea2",
   "metadata": {},
   "outputs": [
    {
     "name": "stdout",
     "output_type": "stream",
     "text": [
      "This\n"
     ]
    }
   ],
   "source": [
    "class min1:\n",
    "    def min_test1(self):\n",
    "        print(\"minnie\")\n",
    "class min2(min1):\n",
    "    def min_test2(self):\n",
    "        print(\"this is my test2\")\n",
    "class min3(min2):\n",
    "    def min_test3(self):\n",
    "        print(\"This\")\n",
    "obj_min=min3()\n",
    "obj_min.min_test3()\n",
    "              \n",
    "        \n",
    "    "
   ]
  },
  {
   "cell_type": "code",
   "execution_count": 12,
   "id": "111dd46e-d04e-45fb-ba1f-77076f85c24e",
   "metadata": {},
   "outputs": [],
   "source": [
    "#multiple inhetitence"
   ]
  },
  {
   "cell_type": "code",
   "execution_count": 14,
   "id": "6d82e9b0-cc40-4d98-ac6f-c7752d940ed5",
   "metadata": {},
   "outputs": [
    {
     "name": "stdout",
     "output_type": "stream",
     "text": [
      "minnie\n"
     ]
    }
   ],
   "source": [
    "class min1:\n",
    "    def min_test1(self):\n",
    "        print(\"minnie\")\n",
    "class min2:\n",
    "    def min_test2(self):\n",
    "        print(\"this is my test2\")\n",
    "class min3(min1,min2):\n",
    "    pass\n",
    "obj_min=min3()\n",
    "obj_min.min_test1()"
   ]
  },
  {
   "cell_type": "code",
   "execution_count": null,
   "id": "d3ba0fb9-4536-4b84-b75b-f5eb15b909a1",
   "metadata": {},
   "outputs": [],
   "source": []
  }
 ],
 "metadata": {
  "kernelspec": {
   "display_name": "Python 3 (ipykernel)",
   "language": "python",
   "name": "python3"
  },
  "language_info": {
   "codemirror_mode": {
    "name": "ipython",
    "version": 3
   },
   "file_extension": ".py",
   "mimetype": "text/x-python",
   "name": "python",
   "nbconvert_exporter": "python",
   "pygments_lexer": "ipython3",
   "version": "3.10.8"
  }
 },
 "nbformat": 4,
 "nbformat_minor": 5
}
